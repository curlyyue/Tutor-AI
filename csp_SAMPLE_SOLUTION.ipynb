{
 "cells": [
  {
   "cell_type": "markdown",
   "id": "e9675f9a",
   "metadata": {},
   "source": [
    "# Programming Exercise 2: Constraint Satisfaction Problem"
   ]
  },
  {
   "cell_type": "markdown",
   "id": "8f92f3ed",
   "metadata": {},
   "source": [
    "## Your task\n",
    "This programming exercise is comprised of two parts: \n",
    "1) Demo notebook (`csp_demo.ipynb`): a demonstration on how to use the solver powered by the aima-python project to solve basic constraint satisfaction problems.\n",
    "   \n",
    "2) **This Exercise notebook (`csp.ipynb`): notebook to implement and submit your solution for the CSP programming exercise \"Organizing Water Sports\"**\n",
    "\n"
   ]
  },
  {
   "cell_type": "markdown",
   "id": "a8742a5c",
   "metadata": {},
   "source": [
    "**Programming Framework**:\n",
    "\n",
    "For this programming exercise, Jupyter Notebooks will be used. The template for the exercise can be\n",
    "found in ARTEMIS. Since you have to model the constraint satisfaction problem, programming skills in\n",
    "Python lambdas, lists and dictionaries are necessary to complete this exercise.\n",
    "An example of how to model a constraint satisfaction problem using the AIMA is provided in the notebook **csp\\_demo.ipynb**. This example is taken from Exercise 3.4. \n",
    "\n",
    "The following steps are required to correctly set up the environment for the programming exercise and submission:\n",
    "1. **Installation of AIMA**: Work through [AIMA installation instructions on Moodle](https://www.moodle.tum.de/mod/page/view.php?id=2323882) (Using Docker is recommended for beginners)\n",
    "2. **ARTEMIS**: Log into [ARTEMIS](https://artemis.ase.in.tum.de/courses/222/exercises) with your TUM credentials. Find the exercise *Constraint Satisfaction Problems* and follow the installation and submission instructions.\n",
    "\n",
    "After completing the above steps, you are all set up to start with the exercise. **The main function of\n",
    "the template is the Jupyter Notebook csp.ipynb.** Your task is to model the water sports organization problem.\n",
    "\n",
    "**A pass will be awarded only if:**\n",
    "1. you submitted the **correct file** with the **correct name**, as shown above.\n",
    "2. you **did not zip** your file.\n",
    "3. you **pushed your files to your ARTEMIS branch.**\n",
    "4. you **did not change the variable names** provided by us within the template.\n",
    "5. your submitted files can be run in a Docker/Anaconda environment (Python 3.7 at least) with the packages provided by the requirements.txt in the aima repository, the utils.py, the search.py and the csp_programming_exercise.py\n",
    "provided by us **within a reasonable time (under 5 minutes).**\n",
    "6. the problem has been modeled correctly using the NaryCSP class from the module\n",
    "csp programming exercise.\n",
    "7. similar to the other programming exercises, this is an individual project and you **must** finish the task on your own. (We will use a plagiarism detection tool and any copied code will annul all bonus exercises\n",
    "from both the copier and the copied person!)\n",
    "\n",
    "Submission will close on <b><font color='red'>Friday, 16.12.2022 at 23:59</font></b>. Your solution will be graded by ARTEMIS.\n",
    "There will be feedback on formatting errors and rightly solved CSP. Nonetheless, it is very important to\n",
    "follow the instructions exactly!\n",
    "\n",
    "We offer preliminary checks of your solution and ARTEMIS will show your progress. You can submit\n",
    "your solution multiple times and get feedback for each submission. Your final submission will be checked.\n",
    "We award 1 point if all checks including **the plagiarism check** pass.\n",
    "                                                                                         \n",
    "\n",
    "\n",
    "<div class=\"alert alert-info\">\n",
    "    <h3>Please read the following important information before starting with the programming exercise: </h3>\n",
    "    <p>In order to avoid problems with the relative file path we recommend to <b>place all provided files</b> in the root folder of your <b>aima repository</b>, if you use Anaconda environment.</p> \n",
    "    <p>Do not use/install any additional packages, which are not provided in the requirements.txt of the  <b>aima repository</b>. </p>\n",
    "    <p>For modeling the constraint satisfaction problem you will have to define some variables. <b>Do not change the names of variables that we provided you!</b> Since we use these variables for an automatic evaluation, changing variable names will result in failing the programming exercise. </p>\n",
    "    <p><b>Do not modify</b> the example with the TWO + TWO = FOUR problem!</p>\n",
    "    <p><b>Do not modify</b> the csp_programming_exercise.py!</p>\n",
    "    <p>If we are not able to run your submitted files in an environment with the packages provided by the requirements.txt of the <b>aima repository</b>, you will fail the programming exercise.</p>\n",
    "    \n",
    "</div>"
   ]
  },
  {
   "cell_type": "markdown",
   "id": "aef0029e",
   "metadata": {},
   "source": [
    "**Task Description**:\n",
    "\n",
    "You are the organizer of a water sports club, which provides 4 activities: **Stand-Up Paddle**, **Windsurf**, **Catamaran** and **Kayak**. Today, a group of 8 students arrived, namely `Anna, Barney, Claire, Davin, Elena, Freddy, Gloria and Henry`. They haven't decided which one to participate in and ask for your help."
   ]
  },
  {
   "cell_type": "markdown",
   "id": "26f7c28f",
   "metadata": {},
   "source": [
    "<img src=\"sports.jpg\" height=500>\n"
   ]
  },
  {
   "cell_type": "markdown",
   "id": "987de817",
   "metadata": {},
   "source": [
    "The information about the provided activities is listed below:\n",
    "\n",
    "\n",
    "|Activity| Person per boat/board | Price per boat/board |\n",
    "|--- |-----------------|----------------|\n",
    "|Stand-Up Paddle | 1               | 6€             |\n",
    "|Windsurf | 1               | 10€            |\n",
    "|Catamaran | 2               | 15€            |\n",
    "|Kayak | 2               | 10€            |\n",
    "\n",
    "Note that:\n",
    "1) These are merely 4 programs planned, which don't necessarily have to all take place. Which program(s) is/are actually going to take place depend(s) on the given constraints.\n",
    "2) Odd-numbered participants can also take part in Catamaran and Kayak, which means they will share the boat with strangers and pay half of the price.\n",
    "3) Every student can take part in **at most** 1 program. Students would be assigned to the program they want to attend by default if there are no additional statements.\n",
    "4) Note that the price includes the cost of the whole equipment set.\n",
    "\n",
    "\n",
    "Now consider the following constraints:\n"
   ]
  },
  {
   "cell_type": "markdown",
   "id": "b49e51fc",
   "metadata": {},
   "source": [
    "#### Constraints:\n",
    "\n",
    "1. Elena and Freddy are good friends. They want to participate in a program where they can share a boat.\n",
    "2. None of them want to share a boat with strangers.\n",
    "3. Stand-up paddle is popular today, so there are only 3 spaces left.\n",
    "4. Barney doesn’t know how to swim, so he doesn’t want to be in a program alone, otherwise he won't attend any program.\n",
    "5. Elena and Gloria are good friends, such that they want to attend the same program or not attend any program.\n",
    "6. Davin has a great passion for kayaking, so he either chooses kayak or nothing.\n",
    "7. If Henry participates in a program, he is okay with any of them, except stand-up paddle.\n",
    "8. Freddy neither wants to be in the same program as Henry nor stay on the shore together with him.\n",
    "9. Anna wants to go either windsurfing or catamaran sailing. Otherwise, she will not attend any program.\n",
    "10. Barney chooses to sail catamarans, and Claire is willing to teach him and join the same program.\n",
    "11. The group has a limited budget so the total cost cannot exceed 60 €.\n",
    "12. Anna, Davin, and Henry want to be together in the same activity, otherwise they are all willing to wait on shore.\n",
    "13. Davin chooses to play SUP with his dog, but Elena is afraid of dogs, so she cannot join him.\n",
    "14. No one wants to participate in an activity alone from the group. Otherwise, they don't participate in any activities.\n",
    "15. If the group wants to attend windsurfing, they need to join a course with an instructor, which requires at least 3 participants to start.\n",
    "16. The group wants to experience as much as possible, they wish to participate in at least 3 programs."
   ]
  },
  {
   "cell_type": "markdown",
   "id": "51236db1",
   "metadata": {},
   "source": [
    "Model the constraint satisfaction problem in Python. For each of the following subsets of constraints, find the solution, if it exists:\n",
    "\n",
    "Problem 2.1: { 1 - 7, 9 - 11, 14, 15}\\\n",
    "Problem 2.2: { 7 - 16 }\\\n",
    "Problem 2.3: { 1 - 3, 5, 7, 11, 12, 16 } \\\n",
    "Problem 2.4: { 1, 4, 5, 11 - 16 }\\\n",
    "Problem 2.5: { 2 - 12, 15 }\\\n",
    "Problem 2.6: { 1 - 11, 14 }\n",
    "\n",
    "Note that not all problems can be satisfied."
   ]
  },
  {
   "cell_type": "markdown",
   "id": "1485091f",
   "metadata": {},
   "source": [
    "### Initialization"
   ]
  },
  {
   "cell_type": "code",
   "execution_count": 1,
   "id": "6f0c6521",
   "metadata": {},
   "outputs": [],
   "source": [
    "# Do not change this part.\n",
    "import warnings\n",
    "warnings.filterwarnings('ignore')\n",
    "\n",
    "import sys\n",
    "import pathlib\n",
    "sys.path.append(pathlib.Path().absolute())\n",
    "from csp_programming_exercise import *"
   ]
  },
  {
   "cell_type": "markdown",
   "id": "2890ffe4",
   "metadata": {},
   "source": [
    "### Constructing the Domain"
   ]
  },
  {
   "cell_type": "code",
   "execution_count": 2,
   "id": "8279f61a",
   "metadata": {},
   "outputs": [],
   "source": [
    "# Define your domain here\n",
    "### YOUR CODE HERE ###\n",
    "domains = {'Anna': set(range(0, 5)),\n",
    "           'Barney': set(range(0, 5)),\n",
    "           'Claire': set(range(0, 5)),\n",
    "           'Davin': set(range(0, 5)),\n",
    "           'Elena': set(range(0, 5)),\n",
    "           'Freddy': set(range(0, 5)),\n",
    "           'Gloria': set(range(0, 5)),\n",
    "           'Henry': set(range(0, 5))\n",
    "           }"
   ]
  },
  {
   "cell_type": "markdown",
   "id": "4028d936",
   "metadata": {},
   "source": [
    "### Constructing the Constraints: Organizing Water Sports"
   ]
  },
  {
   "cell_type": "code",
   "execution_count": 3,
   "id": "f7f1a570",
   "metadata": {},
   "outputs": [],
   "source": [
    "# Define your constraints here\n",
    "### YOUR CODE HERE ###\n",
    "constraint1 = Constraint(('Anna', 'Barney', 'Claire', 'Davin', 'Elena', 'Freddy', 'Gloria', 'Henry'),\n",
    "                         lambda a, b, c, d, e, f, g, h: e == f == 3 or e == f == 4)\n",
    "constraint2 = Constraint(('Anna', 'Barney', 'Claire', 'Davin', 'Elena', 'Freddy', 'Gloria', 'Henry'),\n",
    "                         lambda a, b, c, d, e, f, g, h: [a, b, c, d, e, f, g, h].count(3) % 2 == 0 and [a, b, c, d, e, f, g, h].count(4) % 2 == 0)\n",
    "constraint3 = Constraint(('Anna', 'Barney', 'Claire', 'Davin', 'Elena', 'Freddy', 'Gloria', 'Henry'),\n",
    "                         lambda a, b, c, d, e, f, g, h: [a, b, c, d, e, f, g, h].count(1) <= 3)\n",
    "constraint4 = Constraint(('Anna', 'Barney', 'Claire', 'Davin', 'Elena', 'Freddy', 'Gloria', 'Henry'),\n",
    "                         lambda a, b, c, d, e, f, g, h: b == a or b == c or b == d or b == e or b == f or b == g or b == h or b == 0)\n",
    "constraint5 = Constraint(('Anna', 'Barney', 'Claire', 'Davin', 'Elena', 'Freddy', 'Gloria', 'Henry'),\n",
    "                         lambda a, b, c, d, e, f, g, h: e == g)\n",
    "constraint6 = Constraint(('Anna', 'Barney', 'Claire', 'Davin', 'Elena', 'Freddy', 'Gloria', 'Henry'),\n",
    "                         lambda a, b, c, d, e, f, g, h: d == 4 or d == 0)\n",
    "constraint7 = Constraint(('Anna', 'Barney', 'Claire', 'Davin', 'Elena', 'Freddy', 'Gloria', 'Henry'),\n",
    "                         lambda a, b, c, d, e, f, g, h: h != 1)\n",
    "constraint8 = Constraint(('Anna', 'Barney', 'Claire', 'Davin', 'Elena', 'Freddy', 'Gloria', 'Henry'),\n",
    "                         lambda a, b, c, d, e, f, g, h: f != h)\n",
    "constraint9 = Constraint(('Anna', 'Barney', 'Claire', 'Davin', 'Elena', 'Freddy', 'Gloria', 'Henry'),\n",
    "                         lambda a, b, c, d, e, f, g, h: a == 2 or a == 3 or a == 0)\n",
    "constraint10 = Constraint(('Anna', 'Barney', 'Claire', 'Davin', 'Elena', 'Freddy', 'Gloria', 'Henry'),\n",
    "                          lambda a, b, c, d, e, f, g, h: b == c == 3)\n",
    "constraint11 = Constraint(('Anna', 'Barney', 'Claire', 'Davin', 'Elena', 'Freddy', 'Gloria', 'Henry'),\n",
    "                          lambda a, b, c, d, e, f, g, h: [a, b, c, d, e, f, g, h].count(\n",
    "                              1) * 6 + [a, b, c, d, e, f, g, h].count(2) * 10\n",
    "                          + [a, b, c, d, e, f, g, h].count(3) * 7.5 + [a, b, c, d, e, f, g, h].count(4) * 5 <= 60)\n",
    "constraint12 = Constraint(('Anna', 'Barney', 'Claire', 'Davin', 'Elena', 'Freddy', 'Gloria', 'Henry'),\n",
    "                          lambda a, b, c, d, e, f, g, h: a == d == h)\n",
    "constraint13 = Constraint(('Anna', 'Barney', 'Claire', 'Davin', 'Elena', 'Freddy', 'Gloria', 'Henry'),\n",
    "                          lambda a, b, c, d, e, f, g, h: e != d and d == 1)\n",
    "constraint14 = Constraint(('Anna', 'Barney', 'Claire', 'Davin', 'Elena', 'Freddy', 'Gloria', 'Henry'),\n",
    "                          lambda a, b, c, d, e, f, g, h: [a, b, c, d, e, f, g, h].count(\n",
    "                              1) != 1 and [a, b, c, d, e, f, g, h].count(2) != 1\n",
    "                          and [a, b, c, d, e, f, g, h].count(3) != 1 and [a, b, c, d, e, f, g, h].count(4) != 1)\n",
    "constraint15 = Constraint(('Anna', 'Barney', 'Claire', 'Davin', 'Elena', 'Freddy', 'Gloria', 'Henry'),\n",
    "                          lambda a, b, c, d, e, f, g, h: [a, b, c, d, e, f, g, h].count(2) == 0 or [a, b, c, d, e, f, g, h].count(2) >= 3)\n",
    "constraint16 = Constraint(('Anna', 'Barney', 'Claire', 'Davin', 'Elena', 'Freddy', 'Gloria', 'Henry'),\n",
    "                          lambda a, b, c, d, e, f, g, h:\n",
    "                          len(set([a, b, c, d, e, f, g, h])) >= 4 if 0 in set([a, b, c, d, e, f, g, h])\n",
    "                          else len(set([a, b, c, d, e, f, g, h])) >= 3)\n"
   ]
  },
  {
   "cell_type": "markdown",
   "id": "a3f9a927",
   "metadata": {},
   "source": [
    "### Combine the constraints and set up the CSPs for the different problems\n",
    "<div class=\"alert alert-danger\">\n",
    "    <p>The variables csp_1, csp_2, csp_3, csp_4, csp_5,csp_6 are defined for setting up the CSPs for the corresponding problems. <b>You have to use these variable names otherwise this will result in failing the programming exercise.</b></p> \n",
    "</div>"
   ]
  },
  {
   "cell_type": "code",
   "execution_count": 4,
   "id": "1bdfabba",
   "metadata": {},
   "outputs": [],
   "source": [
    "# Construct the Organizing Water Sports Problems\n",
    "\n",
    "# Combine Constraints and set up the csp for Problem 2.1\n",
    "### YOUR CODE HERE ###\n",
    "csp_1_constraints = [constraint1,\n",
    "                     constraint2,\n",
    "                     constraint3,\n",
    "                     constraint4,\n",
    "                     constraint5,\n",
    "                     constraint6,\n",
    "                     constraint7,\n",
    "                     constraint9,\n",
    "                     constraint10,\n",
    "                     constraint11,\n",
    "                     constraint14,\n",
    "                     constraint15]\n",
    "csp_1 = NaryCSP(domains, csp_1_constraints)\n",
    "\n",
    "\n",
    "# Combine Constraints and set up the csp for Problem 2.2\n",
    "### YOUR CODE HERE ###\n",
    "csp_2_constraints = [constraint7,\n",
    "                     constraint8,\n",
    "                     constraint9,\n",
    "                     constraint10,\n",
    "                     constraint11,\n",
    "                     constraint12,\n",
    "                     constraint13,\n",
    "                     constraint14,\n",
    "                     constraint15,\n",
    "                     constraint16]\n",
    "csp_2 = NaryCSP(domains, csp_2_constraints)\n",
    "\n",
    "\n",
    "# Combine Constraints and set up the csp for Problem 2.3\n",
    "### YOUR CODE HERE ###\n",
    "csp_3_constraints = [constraint1,\n",
    "                     constraint2,\n",
    "                     constraint3,\n",
    "                     constraint5,\n",
    "                     constraint7,\n",
    "                     constraint11,\n",
    "                     constraint12,\n",
    "                     constraint16]\n",
    "csp_3 = NaryCSP(domains, csp_3_constraints)\n",
    "\n",
    "\n",
    "# Combine Constraints and set up the csp for Problem 2.4\n",
    "### YOUR CODE HERE ###\n",
    "csp_4_constraints = [constraint1,\n",
    "                     constraint4,\n",
    "                     constraint5,\n",
    "                     constraint11,\n",
    "                     constraint12,\n",
    "                     constraint13,\n",
    "                     constraint14,\n",
    "                     constraint15,\n",
    "                     constraint16]\n",
    "csp_4 = NaryCSP(domains, csp_4_constraints)\n",
    "\n",
    "\n",
    "# Combine Constraints and set up the csp for Problem 2.5\n",
    "### YOUR CODE HERE ###\n",
    "csp_5_constraints = [constraint2,\n",
    "                     constraint3,\n",
    "                     constraint4,\n",
    "                     constraint5,\n",
    "                     constraint6,\n",
    "                     constraint7,\n",
    "                     constraint8,\n",
    "                     constraint9,\n",
    "                     constraint10,\n",
    "                     constraint11,\n",
    "                     constraint12,\n",
    "                     constraint15]\n",
    "csp_5 = NaryCSP(domains, csp_5_constraints)\n",
    "\n",
    "\n",
    "# Combine Constraints and set up the csp for Problem 2.6\n",
    "### YOUR CODE HERE ###\n",
    "csp_6_constraints = [constraint1,\n",
    "                     constraint2,\n",
    "                     constraint3,\n",
    "                     constraint4,\n",
    "                     constraint5,\n",
    "                     constraint6,\n",
    "                     constraint7,\n",
    "                     constraint8,\n",
    "                     constraint9,\n",
    "                     constraint10,\n",
    "                     constraint11,\n",
    "                     constraint14]\n",
    "csp_6 = NaryCSP(domains, csp_6_constraints)\n"
   ]
  },
  {
   "cell_type": "markdown",
   "id": "58c47699",
   "metadata": {},
   "source": [
    "### Solving the CSP\n",
    "<div class=\"alert alert-danger\">\n",
    "    <p>Do not change the following cell. If you can't execute the following cell, you may have renamed the variables defined by us.</p> \n",
    "</div>"
   ]
  },
  {
   "cell_type": "code",
   "execution_count": null,
   "id": "a2a6e153",
   "metadata": {
    "pycharm": {
     "is_executing": true
    }
   },
   "outputs": [],
   "source": [
    "# Do not change this part\n",
    "print(ac_search_solver(csp_1))\n",
    "print(ac_search_solver(csp_2))\n",
    "print(ac_search_solver(csp_3))\n",
    "print(ac_search_solver(csp_4))\n",
    "print(ac_search_solver(csp_5))\n",
    "print(ac_search_solver(csp_6))\n"
   ]
  }
 ],
 "metadata": {
  "kernelspec": {
   "display_name": "Python 3 (ipykernel)",
   "language": "python",
   "name": "python3"
  },
  "language_info": {
   "codemirror_mode": {
    "name": "ipython",
    "version": 3
   },
   "file_extension": ".py",
   "mimetype": "text/x-python",
   "name": "python",
   "nbconvert_exporter": "python",
   "pygments_lexer": "ipython3",
   "version": "3.10.6"
  },
  "vscode": {
   "interpreter": {
    "hash": "7673d0b95167c2b6d9f55ad332d07cde48f93ab711d93a47b41236c94a866387"
   }
  }
 },
 "nbformat": 4,
 "nbformat_minor": 5
}
