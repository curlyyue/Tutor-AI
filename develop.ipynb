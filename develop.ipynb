{
 "cells": [
  {
   "cell_type": "markdown",
   "id": "e9675f9a",
   "metadata": {},
   "source": [
    "# Programming Exercise 2: Constraint Satisfaction Problem"
   ]
  },
  {
   "cell_type": "markdown",
   "id": "8f92f3ed",
   "metadata": {},
   "source": [
    "## Your task\n",
    "This programming exercise is comprised of two parts: \n",
    "1) Demo notebook (`csp_demo.ipynb`): a demonstration on how to use the solver powered by the aima-python project to solve basic constraint satisfaction problems.\n",
    "   \n",
    "2) **This Exercise notebook (`csp.ipynb`): notebook to implement and submit your solution for the CSP programming exercise \"Organizing Water Sport\"**\n",
    "\n"
   ]
  },
  {
   "cell_type": "markdown",
   "id": "a8742a5c",
   "metadata": {},
   "source": [
    "**Programming Framework**:\n",
    "\n",
    "For this programming exercise, Jupyter Notebooks will be used. The template for the exercise can be\n",
    "found in ARTEMIS. Since you have to model the constraint satisfaction problem, programming skills in\n",
    "Python lambdas, lists and dictionaries are necessary to complete this exercise. The following steps are\n",
    "required to correctly set up the environment for the programming exercise:\n",
    "1. **Installation of Environment and Download of the AIMA python code**: If you do not already\n",
    "have the Jupyter Notebook environment installed on your machine, the installation is the first\n",
    "step you have to perform. We recommend installing via Docker since this will set up the whole\n",
    "environment for you. The template for the programming exercise is based on the code from the\n",
    "AIMAcode project. Therefore, if you want to use Anaconda to set up the environment, you first have to download the code from this project before the template can be used. Instructions for installation of Anaconda and AIMA python code can be found in \"AIMA Code Installation Instructions\" on Moodle (see task description).\n",
    "1. **Pull of the template**: Pull the repository with the template from ARTEMIS. To avoid issues\n",
    "with the relative file paths, we recommend copying all files contained in the template into the\n",
    "root directory of the AIMAcode project that you downloaded in the previous step.\n",
    "                                                                                         \n",
    "After completing the above steps, you are all set up to start with the exercise. **The main function of\n",
    "the template is the Jupyter Notebook csp.ipynb.** Your task is to model the Student Presentation problem. \n",
    "\n",
    "                                                                                         \n",
    "**Submission:**\n",
    "\n",
    "For submission, you have to upload the following files in ARTEMIS:\n",
    "1. Copy **`csp.ipynb`** (notebook containing your solution for modeling the Organizing Water Sports problem) to the pulled repository.\n",
    "2. Add and commit the modified notebook, and push it to ARTEMIS.\n",
    "\n",
    "**A pass will be awarded only if:**\n",
    "1. you submitted the **correct file** with the **correct name**, as shown above.\n",
    "2. you **did not zip** your file.\n",
    "3. you **pushed your files to your ARTEMIS branch.**\n",
    "4. you **did not change the variable names** provided by us within the template.\n",
    "5. your submitted files can be run in a Docker/Anaconda environment (Python 3.7 at least) with the packages provided by the requirements.txt in the aima repository, the utils.py, the search.py and the csp_programming_exercise.py\n",
    "provided by us **within a reasonable time (under 5 minutes).**\n",
    "6. the problem has been modeled correctly using the NaryCSP class from the module\n",
    "csp programming exercise.\n",
    "7. like the rest of the programming exercises, this is an individual project and you **must** finish the task on your own. (We will use a plagiarism detection tool and any copied code will annul all bonus exercises\n",
    "from both the copier and the copied person!)\n",
    "\n",
    "Submission will close on <b><font color='red'>Friday, 16.12.2022 at 23:59</font></b>. Your solution will be graded by ARTEMIS.\n",
    "There will be feedback on formatting errors and rightly solved CSP. Nonetheless, it is very important to\n",
    "follow the instructions exactly!\n",
    "\n",
    "We offer preliminary checks of your solution and ARTEMIS will show your progress. You can submit\n",
    "your solution multiple times and get feedback for each submission. Your final submission will be checked.\n",
    "We award 1 point if all checks including plagiarism pass.\n",
    "                                                                                         \n",
    "\n",
    "\n",
    "<div class=\"alert alert-info\">\n",
    "    <h3>Please read the following important information before starting with the programming exercise: </h3>\n",
    "    <p>In order to avoid problems with the relative file path we recommend to <b>place all provided files</b> in the root folder of your <b>aima repository</b>, if you use Anaconda environment.</p> \n",
    "    <p>Do not use/install any additional packages, which are not provided in the requirements.txt of the  <b>aima repository</b>. </p>\n",
    "    <p>For modeling the constraint satisfaction problem you will have to define some variables. <b>Do not change the names of variables that we provided you!</b> Since we use these variables for an automatic evaluation, changing variable names will result in failing the programming exercise. </p>\n",
    "    <p><b>Do not modify</b> the example with the TWO + TWO = FOUR problem!</p>\n",
    "    <p><b>Do not modify</b> the csp_programming_exercise.py!</p>\n",
    "    <p>If we are not able to run your submitted files in an environment with the packages provided by the requirements.txt of the <b>aima repository</b>, you will fail the programming exercise.</p>\n",
    "    \n",
    "</div>"
   ]
  },
  {
   "cell_type": "markdown",
   "id": "aef0029e",
   "metadata": {},
   "source": [
    "**Task Description**:\n",
    "\n",
    "You are an organizer of a water sports club, which provides 4 different programs: **Stand-Up Paddle**, **Windsurf**, **Catamaran** and **Kayak**. Today comes a group of 8 students, they are `Anna, Barney, Claire, Davin, Elena, Freddy, Gloria and Henry`. They haven't decided which one to participate in and ask for your help."
   ]
  },
  {
   "cell_type": "markdown",
   "id": "26f7c28f",
   "metadata": {},
   "source": [
    "<img src=\"sports.jpg\" height=500>\n"
   ]
  },
  {
   "cell_type": "markdown",
   "id": "987de817",
   "metadata": {},
   "source": [
    "The information about those different recreational activities is listed as followed:\n",
    "\n",
    "\n",
    "|Activity| Person per boat | Price per boat |\n",
    "|--- |-----------------|----------------|\n",
    "|Stand-Up Paddle | 1               | 6€             |\n",
    "|Windsurf | 1               | 10€            |\n",
    "|Catamaran | 2               | 15€            |\n",
    "|Kayak | 2               | 10€            |\n",
    "\n",
    "Note that:\n",
    "1) These are merely 4 programs planned, which don't necessarily have to take place at all. Which program(s) is/are actually going to participate depend(s) on the given constraints.  \n",
    "2) Odd-numbered participants can also take part in Catamaran and Kayak, which means they will share the boat with strangers and pay half of the boat price.\n",
    "3) Every student can take part in **at most** 1 program. Without specific instructions, the students can also choose to not participate in any program.\n",
    "\n",
    "\n",
    "Now consider the following constraints:\n"
   ]
  },
  {
   "cell_type": "markdown",
   "id": "b49e51fc",
   "metadata": {},
   "source": [
    "#### Constraints:\n",
    "\n",
    "1. Elena and Freddy are good friends. They want to participate in a program where they can share a boat.\n",
    "2. None of them want to share a boat with strangers.\n",
    "3. Stand-up paddle is popular today, so there are only 3 spaces left.\n",
    "4. Barney doesn’t know how to swim, so he doesn’t want to be in a program alone, otherwise he won't attend any program.\n",
    "5. Elena and Gloria are good friends, such that they want to attend the same program or not attend any program.\n",
    "6. Davin has a great passion for kayaking, so he either chooses kayak or nothing.\n",
    "7. If Henry participates in a program, he is okay with any of them, except stand-up paddle.\n",
    "8.  Freddy neither wants to be in the same program nor stay together on the shore with Henry.\n",
    "9.  Anna wants to go either windsurfing or catamaran sailing. Otherwise, she will not attend any program.\n",
    "10. Barney chooses to sail catamarans, and Claire is willing to teach him and join the same program.\n",
    "11. The group has a limited budget so the total cost cannot exceed 60 €.\n",
    "12. Anna, Davin, and Henry want to be together in the same activity, otherwise they are willing to wait on shore together.\n",
    "13. Davin chooses to play SUP with his dog, but Elena is afraid of dogs, so she cannot join him.\n",
    "14. No one wants to participate in an activity alone from the group. Otherwise, they don't participate in any activities.\n",
    "15. If the group wants to attend windsurfing, they need to join a course with an instructor, which requires at least 3 participants to start.\n",
    "16. The group wants to experience as much as possible, they wish to participate in at least 3 programs."
   ]
  },
  {
   "cell_type": "markdown",
   "id": "51236db1",
   "metadata": {},
   "source": [
    "Model the constraint satisfaction problem in Python. For each of the following subsets of constraints, find the solution, if it exists:\n",
    "\n",
    "Problem 2.1: { 1 - 7, 9 - 11, 14, 15}\\\n",
    "Problem 2.2: { 7 - 16 }\\\n",
    "Problem 2.3: { 1 - 3, 5, 7, 11, 12, 16 } \\\n",
    "Problem 2.4: { 1, 4, 5, 11 - 16 }\\\n",
    "Problem 2.5: { 2 - 12, 15 }\\\n",
    "Problem 2.6: { 1 - 11, 14 }\n",
    "\n",
    "Note that not all problems can be satisfied."
   ]
  },
  {
   "cell_type": "markdown",
   "id": "1485091f",
   "metadata": {},
   "source": [
    "### Initialization"
   ]
  },
  {
   "cell_type": "code",
   "execution_count": 1,
   "id": "6f0c6521",
   "metadata": {},
   "outputs": [],
   "source": [
    "# Do not change this part.\n",
    "import warnings\n",
    "warnings.filterwarnings('ignore')\n",
    "\n",
    "import sys, os\n",
    "import pathlib\n",
    "sys.path.append(pathlib.Path().absolute())\n",
    "from csp_programming_exercise import *"
   ]
  },
  {
   "cell_type": "markdown",
   "id": "2890ffe4",
   "metadata": {},
   "source": [
    "### Constructing the Domain"
   ]
  },
  {
   "cell_type": "code",
   "execution_count": 2,
   "id": "8279f61a",
   "metadata": {},
   "outputs": [],
   "source": [
    "# Define your domain here\n",
    "### YOUR CODE HERE ###\n",
    "domains = {'Anna': set(range(0, 5)),\n",
    "           'Barney': set(range(0, 5)),\n",
    "           'Claire': set(range(0, 5)),\n",
    "           'Davin': set(range(0, 5)),\n",
    "           'Elena': set(range(0, 5)),\n",
    "           'Freddy': set(range(0, 5)),\n",
    "           'Gloria': set(range(0, 5)),\n",
    "           'Henry': set(range(0, 5))\n",
    "           }\n",
    "# 0=nothing, 1=sup, 2=windsurf, 3=cat, 4=kayak\n"
   ]
  },
  {
   "cell_type": "markdown",
   "id": "4028d936",
   "metadata": {},
   "source": [
    "### Constructing the Constraints: Organizing Water Sports"
   ]
  },
  {
   "cell_type": "code",
   "execution_count": 3,
   "id": "f7f1a570",
   "metadata": {},
   "outputs": [],
   "source": [
    "\n",
    "constraint1 = Constraint(('Anna', 'Barney', 'Claire', 'Davin', 'Elena', 'Freddy', 'Gloria', 'Henry'),\n",
    "                         lambda a, b, c, d, e, f, g, h: e == f == 3 or e == f == 4)\n",
    "constraint2 = Constraint(('Anna', 'Barney', 'Claire', 'Davin', 'Elena', 'Freddy', 'Gloria', 'Henry'),\n",
    "                         lambda a, b, c, d, e, f, g, h: [a, b, c, d, e, f, g, h].count(3) % 2 == 0 and [a, b, c, d, e, f, g, h].count(4) % 2 == 0)\n",
    "constraint3 = Constraint(('Anna', 'Barney', 'Claire', 'Davin', 'Elena', 'Freddy', 'Gloria', 'Henry'),\n",
    "                         lambda a, b, c, d, e, f, g, h: [a, b, c, d, e, f, g, h].count(1) <= 3)\n",
    "constraint4 = Constraint(('Anna', 'Barney', 'Claire', 'Davin', 'Elena', 'Freddy', 'Gloria', 'Henry'),\n",
    "                         lambda a, b, c, d, e, f, g, h: b == a or b == c or b == d or b == e or b == f or b == g or b == h or b == 0)\n",
    "constraint5 = Constraint(('Anna', 'Barney', 'Claire', 'Davin', 'Elena', 'Freddy', 'Gloria', 'Henry'),\n",
    "                         lambda a, b, c, d, e, f, g, h: e == g)\n",
    "constraint6 = Constraint(('Anna', 'Barney', 'Claire', 'Davin', 'Elena', 'Freddy', 'Gloria', 'Henry'),\n",
    "                         lambda a, b, c, d, e, f, g, h: d == 4 or d == 0)\n",
    "constraint7 = Constraint(('Anna', 'Barney', 'Claire', 'Davin', 'Elena', 'Freddy', 'Gloria', 'Henry'),\n",
    "                         lambda a, b, c, d, e, f, g, h: h != 1)\n",
    "constraint8 = Constraint(('Anna', 'Barney', 'Claire', 'Davin', 'Elena', 'Freddy', 'Gloria', 'Henry'),\n",
    "                         lambda a, b, c, d, e, f, g, h: f != h)\n",
    "constraint9 = Constraint(('Anna', 'Barney', 'Claire', 'Davin', 'Elena', 'Freddy', 'Gloria', 'Henry'),\n",
    "                         lambda a, b, c, d, e, f, g, h: a == 2 or a == 3 or a == 0)\n",
    "constraint10 = Constraint(('Anna', 'Barney', 'Claire', 'Davin', 'Elena', 'Freddy', 'Gloria', 'Henry'),\n",
    "                          lambda a, b, c, d, e, f, g, h: b == c == 3)\n",
    "constraint11 = Constraint(('Anna', 'Barney', 'Claire', 'Davin', 'Elena', 'Freddy', 'Gloria', 'Henry'),\n",
    "                          lambda a, b, c, d, e, f, g, h: [a, b, c, d, e, f, g, h].count(\n",
    "                              1) * 6 + [a, b, c, d, e, f, g, h].count(2) * 10\n",
    "                          + [a, b, c, d, e, f, g, h].count(3) * 7.5 + [a, b, c, d, e, f, g, h].count(4) * 5 <= 60)\n",
    "constraint12 = Constraint(('Anna', 'Barney', 'Claire', 'Davin', 'Elena', 'Freddy', 'Gloria', 'Henry'),\n",
    "                          lambda a, b, c, d, e, f, g, h: a == d == h)\n",
    "constraint13 = Constraint(('Anna', 'Barney', 'Claire', 'Davin', 'Elena', 'Freddy', 'Gloria', 'Henry'),\n",
    "                          lambda a, b, c, d, e, f, g, h: e != d and d == 1)\n",
    "constraint14 = Constraint(('Anna', 'Barney', 'Claire', 'Davin', 'Elena', 'Freddy', 'Gloria', 'Henry'),\n",
    "                          lambda a, b, c, d, e, f, g, h: [a, b, c, d, e, f, g, h].count(\n",
    "                              1) != 1 and [a, b, c, d, e, f, g, h].count(2) != 1\n",
    "                          and [a, b, c, d, e, f, g, h].count(3) != 1 and [a, b, c, d, e, f, g, h].count(4) != 1)\n",
    "constraint15 = Constraint(('Anna', 'Barney', 'Claire', 'Davin', 'Elena', 'Freddy', 'Gloria', 'Henry'),\n",
    "                          lambda a, b, c, d, e, f, g, h: [a, b, c, d, e, f, g, h].count(2) == 0 or [a, b, c, d, e, f, g, h].count(2) >= 3)\n",
    "constraint16 = Constraint(('Anna', 'Barney', 'Claire', 'Davin', 'Elena', 'Freddy', 'Gloria', 'Henry'),\n",
    "                          lambda a, b, c, d, e, f, g, h:\n",
    "                          len(set([a, b, c, d, e, f, g, h])) >= 4 if 0 in set([a, b, c, d, e, f, g, h])\n",
    "                          else len(set([a, b, c, d, e, f, g, h])) >= 3)\n"
   ]
  },
  {
   "cell_type": "markdown",
   "id": "a3f9a927",
   "metadata": {},
   "source": [
    "### Combine the constraints and set up the CSPs for the different problems\n",
    "<div class=\"alert alert-danger\">\n",
    "    <p>The variables csp_1, csp_2, csp_3, csp_4, csp_5,csp_6 are defined for setting up the CSPs for the corresponding problems. <b>You have to use these variable names otherwise this will result in failing the programming exercise.</b></p> \n",
    "</div>"
   ]
  },
  {
   "cell_type": "code",
   "execution_count": 4,
   "id": "1bdfabba",
   "metadata": {},
   "outputs": [],
   "source": [
    "csp_1_constraints = [constraint1,\n",
    "                     constraint2,\n",
    "                     constraint3,\n",
    "                     constraint4,\n",
    "                     constraint5,\n",
    "                     constraint6,\n",
    "                     constraint7,\n",
    "                     constraint9,\n",
    "                     constraint10,\n",
    "                     constraint11,\n",
    "                     constraint14,\n",
    "                     constraint15]\n",
    "csp_1 = NaryCSP(domains, csp_1_constraints)\n",
    "\n",
    "csp_2_constraints = [constraint7,\n",
    "                     constraint8,\n",
    "                     constraint9,\n",
    "                     constraint10,\n",
    "                     constraint11,\n",
    "                     constraint12,\n",
    "                     constraint13,\n",
    "                     constraint14,\n",
    "                     constraint15,\n",
    "                     constraint16]\n",
    "csp_2 = NaryCSP(domains, csp_2_constraints)\n",
    "\n",
    "csp_3_constraints = [constraint1,\n",
    "                     constraint2,\n",
    "                     constraint3,\n",
    "                     constraint5,\n",
    "                     constraint7,\n",
    "                     constraint11,\n",
    "                     constraint12,\n",
    "                     constraint16]\n",
    "csp_3 = NaryCSP(domains, csp_3_constraints)\n",
    "\n",
    "csp_4_constraints = [constraint1,\n",
    "                     constraint4,\n",
    "                     constraint5,\n",
    "                     constraint11,\n",
    "                     constraint12,\n",
    "                     constraint13,\n",
    "                     constraint14,\n",
    "                     constraint15,\n",
    "                     constraint16]\n",
    "csp_4 = NaryCSP(domains, csp_4_constraints)\n",
    "\n",
    "csp_5_constraints = [constraint2,\n",
    "                     constraint3,\n",
    "                     constraint4,\n",
    "                     constraint5,\n",
    "                     constraint6,\n",
    "                     constraint7,\n",
    "                     constraint8,\n",
    "                     constraint9,\n",
    "                     constraint10,\n",
    "                     constraint11,\n",
    "                     constraint12,\n",
    "                     constraint15]\n",
    "csp_5 = NaryCSP(domains, csp_5_constraints)\n",
    "\n",
    "csp_6_constraints = [constraint1,\n",
    "                     constraint2,\n",
    "                     constraint3,\n",
    "                     constraint4,\n",
    "                     constraint5,\n",
    "                     constraint6,\n",
    "                     constraint7,\n",
    "                     constraint8,\n",
    "                     constraint9,\n",
    "                     constraint10,\n",
    "                     constraint11,\n",
    "                     constraint14]\n",
    "csp_6 = NaryCSP(domains, csp_6_constraints)\n"
   ]
  },
  {
   "cell_type": "markdown",
   "id": "58c47699",
   "metadata": {},
   "source": [
    "### Solving the CSP\n",
    "<div class=\"alert alert-danger\">\n",
    "    <p>Do not change the following cell. If you can't execute the following cell, you may have renamed the variables defined by us.</p> \n",
    "</div>"
   ]
  },
  {
   "cell_type": "code",
   "execution_count": 5,
   "id": "a2a6e153",
   "metadata": {},
   "outputs": [
    {
     "name": "stdout",
     "output_type": "stream",
     "text": [
      "{'Anna': 3, 'Barney': 3, 'Claire': 3, 'Davin': 4, 'Elena': 4, 'Freddy': 4, 'Gloria': 4, 'Henry': 3}\n",
      "None\n",
      "{'Anna': 4, 'Barney': 2, 'Claire': 1, 'Davin': 4, 'Elena': 4, 'Freddy': 4, 'Gloria': 4, 'Henry': 4}\n",
      "{'Anna': 1, 'Barney': 4, 'Claire': 4, 'Davin': 1, 'Elena': 3, 'Freddy': 3, 'Gloria': 3, 'Henry': 1}\n",
      "{'Anna': 0, 'Barney': 3, 'Claire': 3, 'Davin': 0, 'Elena': 4, 'Freddy': 1, 'Gloria': 4, 'Henry': 0}\n",
      "{'Anna': 3, 'Barney': 3, 'Claire': 3, 'Davin': 4, 'Elena': 4, 'Freddy': 4, 'Gloria': 4, 'Henry': 3}\n"
     ]
    }
   ],
   "source": [
    "print(ac_search_solver(csp_1))\n",
    "print(ac_search_solver(csp_2))\n",
    "print(ac_search_solver(csp_3))\n",
    "print(ac_search_solver(csp_4))\n",
    "print(ac_search_solver(csp_5))\n",
    "print(ac_search_solver(csp_6))\n"
   ]
  },
  {
   "cell_type": "code",
   "execution_count": 6,
   "id": "9588fb77",
   "metadata": {},
   "outputs": [],
   "source": [
    "# For testing only! How many solutions does a constraint set has?\n",
    "\n",
    "def all_solutions(csp):\n",
    "    result = 0\n",
    "    # copy csp to local\n",
    "    domains_temp = csp.domains.copy()\n",
    "    # Catch possible numpy array implementations:\n",
    "    numpy_flag = 0\n",
    "    constraints_temp = csp.constraints.copy()\n",
    "    # list to memorize all previous solutions\n",
    "    solution_list = []\n",
    "    # Always find a next solution if the current solution exists\n",
    "    while True:\n",
    "        sol = ac_search_solver(csp)\n",
    "        if not sol:\n",
    "            break\n",
    "        result = result + 1\n",
    "        solution_list.append(list(sol.values()))\n",
    "        # Add a new constraint: the next solution should not be the same as any previous solutions\n",
    "        constraints_temp.append(Constraint(\n",
    "            tuple(domains_temp.keys()), lambda *vals: list(vals) not in solution_list))\n",
    "        # create a new CSP based on the new constraints\n",
    "        csp = NaryCSP(domains_temp, constraints_temp)\n",
    "    return result\n"
   ]
  },
  {
   "cell_type": "code",
   "execution_count": 7,
   "id": "007b0f75",
   "metadata": {},
   "outputs": [
    {
     "name": "stdout",
     "output_type": "stream",
     "text": [
      "6\n",
      "0\n",
      "4\n",
      "2\n",
      "5\n",
      "5\n"
     ]
    }
   ],
   "source": [
    "\n",
    "# Warning, this cell may take quite a long time\n",
    "print(all_solutions(csp_1))\n",
    "print(all_solutions(csp_2))\n",
    "print(all_solutions(csp_3))\n",
    "print(all_solutions(csp_4))\n",
    "print(all_solutions(csp_5))\n",
    "print(all_solutions(csp_6))\n"
   ]
  },
  {
   "cell_type": "code",
   "execution_count": null,
   "id": "721ada07",
   "metadata": {},
   "outputs": [],
   "source": []
  }
 ],
 "metadata": {
  "kernelspec": {
   "display_name": "Python 3.9.12 ('base')",
   "language": "python",
   "name": "python3"
  },
  "language_info": {
   "codemirror_mode": {
    "name": "ipython",
    "version": 3
   },
   "file_extension": ".py",
   "mimetype": "text/x-python",
   "name": "python",
   "nbconvert_exporter": "python",
   "pygments_lexer": "ipython3",
   "version": "3.9.12"
  },
  "vscode": {
   "interpreter": {
    "hash": "ad2bdc8ecc057115af97d19610ffacc2b4e99fae6737bb82f5d7fb13d2f2c186"
   }
  }
 },
 "nbformat": 4,
 "nbformat_minor": 5
}
